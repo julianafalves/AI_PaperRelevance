{
  "nbformat": 4,
  "nbformat_minor": 0,
  "metadata": {
    "colab": {
      "provenance": [],
      "authorship_tag": "ABX9TyODxAjkZJk6ERBVa4CUxJK4",
      "include_colab_link": true
    },
    "kernelspec": {
      "name": "python3",
      "display_name": "Python 3"
    },
    "language_info": {
      "name": "python"
    }
  },
  "cells": [
    {
      "cell_type": "markdown",
      "metadata": {
        "id": "view-in-github",
        "colab_type": "text"
      },
      "source": [
        "<a href=\"https://colab.research.google.com/github/julianafalves/AI_PaperRelevance/blob/main/CoHereAPI.ipynb\" target=\"_parent\"><img src=\"https://colab.research.google.com/assets/colab-badge.svg\" alt=\"Open In Colab\"/></a>"
      ]
    },
    {
      "cell_type": "markdown",
      "source": [
        "# Alzheimer's Disease Research Paper Summarization using Cohere API"
      ],
      "metadata": {
        "id": "eiO4lxBE9YMU"
      }
    },
    {
      "cell_type": "markdown",
      "source": [
        "Project Description:\n",
        "The goal of this project is to develop a Python-based application that leverages the CoHere API to summarize the main concepts of research papers, extract relevant papers based on an abstract, and highlight similarities between papers in terms of results and main ideas. The application will handle papers in PDF format, accommodating different layout structures, including those with two columns per page. The project will primarily focus on the fields of Machine Learning (ML) and Natural Language Processing (NLP)."
      ],
      "metadata": {
        "id": "xU2VVB6gEl3x"
      }
    },
    {
      "cell_type": "markdown",
      "source": [
        "##PDF Parsing and Text Extraction:\n",
        "- Implement a PDF parsing mechanism to extract the text content from research papers.\n",
        "- Account for different layout structures, including papers with two columns per page.\n",
        "- Store the extracted text for further processing.\n"
      ],
      "metadata": {
        "id": "oRfhYRXUEqrz"
      }
    },
    {
      "cell_type": "code",
      "execution_count": 9,
      "metadata": {
        "id": "dauN9VNS7hH8",
        "colab": {
          "base_uri": "https://localhost:8080/"
        },
        "outputId": "3593404f-896e-447a-c8cd-835d5d69c146"
      },
      "outputs": [
        {
          "output_type": "stream",
          "name": "stdout",
          "text": [
            "Requirement already satisfied: PyPDF2 in /usr/local/lib/python3.10/dist-packages (3.0.1)\n"
          ]
        }
      ],
      "source": [
        "!pip install PyPDF2"
      ]
    },
    {
      "cell_type": "code",
      "source": [
        "import PyPDF2\n",
        "pdf_file = open('paper1_yoa40625.pdf',\"rb\")\n",
        "pdf_reader = PyPDF2.PdfReader(pdf_file)"
      ],
      "metadata": {
        "id": "Nsm_TyOfFuz0"
      },
      "execution_count": 10,
      "outputs": []
    },
    {
      "cell_type": "code",
      "source": [
        "extracted_text = \"\"\n",
        "for page in pdf_reader.pages:\n",
        "  extracted_text += page.extract_text()\n",
        "\n",
        "pdf_file.close()"
      ],
      "metadata": {
        "id": "hlgdm45QGTi3"
      },
      "execution_count": 11,
      "outputs": []
    },
    {
      "cell_type": "code",
      "source": [
        "extracted_text"
      ],
      "metadata": {
        "colab": {
          "base_uri": "https://localhost:8080/",
          "height": 109
        },
        "id": "XJOrg9T3Gsox",
        "outputId": "0f327e4c-6236-4379-cf76-c9ae811358cb"
      },
      "execution_count": 12,
      "outputs": [
        {
          "output_type": "execute_result",
          "data": {
            "text/plain": [
              "'ORIGINAL ARTICLE\\nRole of Genes and Environments\\nfor Explaining Alzheimer Disease\\nMargaret Gatz, PhD; Chandra A. Reynolds, PhD; Laura Fratiglioni, MD, PhD; Boo Johansson, PhD;\\nJames A. Mortimer, PhD; Stig Berg, PhD; Amy Fiske, PhD; Nancy L. Pedersen, PhD\\nContext :Twin studies using selected samples have shown\\nhigh heritability for Alzheimer disease (AD).\\nObjective :To evaluate genetic and environmental in-\\nfluences on AD in a fully ascertained population of oldertwins, including like- and unlike-sex pairs.\\nDesign :Five-group quantitative genetic model: male\\nmonozygotic twins, female monozygotic twins, male di-zygotic twins, female dizygotic twins, and unlike-sextwins.\\nSetting and Participants :All twins in the Swedish\\nTwin Registry aged 65 years and older. The study in-cluded 11 884 twin pairs, among whom were 392 pairsin which 1 or both members had AD.\\nMain Outcome Measures :All individuals were\\nscreened for cognitive dysfunction. Suspected cases of de-mentia and their co-twins received complete clinical di-agnostic evaluations for AD. Estimates of heritability,shared environmental influences, and nonshared envi-ronmental influences, adjusting for age, were derived from\\nthe twin data.\\nResults :Heritability for AD was estimated to be 58% in\\nthe full model and 79% in the best-fitting model, withthe balance of variation explained by nonshared envi-ronmental influences. There were no significant differ-ences between men and women in prevalence or herita-\\nbility after controlling for age. Within pairs concordantfor AD, intrapair difference in age at onset was signifi-cantly greater in dizygotic than in monozygotic pairs, sug-gesting genetic influences on timing of the disease.\\nConclusions :In the largest twin study to date, we con-\\nfirmed that heritability for AD is high and that the samegenetic factors are influential for both men and women.However, nongenetic risk factors also play an importantrole and might be the focus for interventions to reducedisease risk or delay disease onset.\\nArch Gen Psychiatry. 2006;63:168-174\\nALZHEIMER DISEASE (AD) IS\\na major public health is-\\nsue, with prevalence of de-mentia from 6% to 10% inadults aged 65 years and\\nolder, of which approximately two thirdsof the cases are AD.\\n1With the population\\nof older adults increasing, the number ofcases will increase. Understanding the riskfactors for AD can direct investigations ofways to reduce disease occurrence.\\n2A\\nnumber of genetic risk factors have beenidentified, but only a small proportion ofAD cases can be explained by specific genemutations.\\n1Empirical support for spe-\\ncific environmental risk or protective fac-tors has often been inconsistent.\\n1,3\\nTwin studies offer a special design for\\nteasing apart the relative importance of ge-netic and environmental influences. Thehistory of twin studies of AD ranges fromcase studies of 1 or a few twin pairs\\n4-7to\\nuse of established twin registries8-13where\\nthe number of cases of AD ranges from un-der 409,11,12to 94.10The present report is\\nbased on the largest population-based twinstudy of AD to date, which includes suf-ficient numbers of like- and unlike-sextwin pairs to examine sex differences ingenetic or environmental effects. Fur-ther, we are the first to adjust for age inestimating the relative contributions of ge-netic and environmental influences on ADoccurrence.\\n14\\nIn a twin study, the most basic descrip-\\ntive information is whether a twin pair isconcordant (both have the disorder) or dis-cordant (only 1 is affected). To the ex-tent that monozygotic (MZ) twins are moreconcordant for a disease than dizygotic(DZ) twins, genetic influences are sug-\\ngested. In a population-based twin study,it is possible to estimate the relative con-tribution of genetic and environmental in-fluences on a trait or disease. These esti-mates are based on the fact that MZ twinsshare all of their genes while DZ twinsshare on average 50% of their segregat-\\nAuthor Affiliations are listed at\\nthe end of this article.\\n(REPRINTED) ARCH GEN PSYCHIATRY/ VOL 63, FEB 2006 WWW.ARCHGENPSYCHIATRY.COM\\n168\\n©2006 American Medical Association. All rights reserved.\\nDownloaded From: https://jamanetwork.com/ on 06/21/2023ing genes. Evidence for the role of the environment comes\\nfrom MZ twin pairs who are discordant for the disease.Differences between the twin with the disease and thetwin without the disease can provide clues regarding bio-logical markers of AD that differentiate the affected fromthe unaffected twin\\n7or provide information related to\\nwhich environmental risk factors might have led one twinto have the disorder while sparing the other.\\n6,15\\nStudies of rates of concordance in twins who have vol-\\nunteered for research can be biased if, for example, pairswho are concordant or MZ pairs are more likely to vol-unteer. For this reason, use of a twin registry that wascompiled from a population from which cases were as-certained in an unbiased fashion is essential. Age effectsare also critical to address in twin studies, particularlyfor age-dependent traits such as AD. If age is not appro-priately handled, inflated shared (ie, familial) environ-mental effects will be obtained.\\n16\\nIncluding unlike-sex twin pairs in the study permits\\nasking additional questions. Not only can heritability andenvironmental influences be quantitatively compared formen and for women, but also comparing similarity forlike- and unlike-sex pairs tests whether the same genesand the same environments play a role for men and forwomen. The possibility that genetic influences may dif-fer for men and for women is supported by a meta-analysis that indicated moderation of the effect of the apo-lipoprotein E gene by sex on risk of AD.\\n17\\nIn this article, we use biometrical twin analyses to ad-\\ndress the following: (1) to verify in a population-based twinregistry the extent of heritability of AD, (2) to evaluate pos-sible differences between men and women in heritabilityof AD, and (3) to examine similarity between membersof MZ vs DZ twin pairs in their age at onset of dementia.\\nMETHODS\\nPARTICIPANTS\\nSwedish Twin Registry\\nThe compilation of the Swedish Twin Registry is described in\\ndetail elsewhere.18In 1961, a questionnaire was sent to all like-\\nsex twin pairs born between 1886 and 1925 in which both twinswere alive, with twin births having been identified from par-ish records. Unlike-sex pairs were not included in the ques-tionnaire; however, using the stored parish records, pairs bornbetween 1906 and 1925 have now been added to the comput-erized twin registry. In 1970, the cohort of twins born be-tween 1926 and 1967 was identified using the nationalized birthregistration system then in place, and in 1973, like-sex twinsin the new cohort were sent a questionnaire. The registry is regu-larly matched to other national health care registries to updateaddress and vital status information. No contact with the en-tire registry took place for the next 25 years. In 1998-2001, allliving twins in the twin registry who were born in 1935 andearlier, both like- and unlike-sex twins, were requested to par-ticipate in a telephone screening interview. This interview in-cluded screening for cognitive dysfunction to identify poten-tial cases for a study of dementia. If the twin were unable to beinterviewed, a brief interview that included questions about cog-nitive status was carried out with an informant. The study ofdementia in Swedish twins is known as HARMONY.HARMONY Sample\\nWe have recently presented detailed information about case iden-tification for HARMONY.\\n19A 2-phase procedure was followed, with\\na screening phase and a clinical phase. Individual participation ratewas 71.5% for the screening phase and 69.7% for the clinical phase.\\nThe data set for the analyses presented here includes all pairs\\nwhere one or both members of the pair participated in either phase.After excluding 131 pairs where zygosity was indeterminate, thetotal number of pairs was 11 884 (10% MZ male, 14% MZ female,18% DZ male, 26% DZ female, and 32% unlike-sex pairs). For127 individuals whose twin partner was dead and hence did notparticipate in the first phase, information was available from medi-cal records and informants or from pilot work with subsamplesof the twin registry, enabling the diagnostic board to ascertaindementia status so that the pair data could be complete. Samplesize for complete pairs and for individuals from complete andincomplete pairs, by sex and zygosity, appears in\\nTable 1 .\\nIndividuals were classified as demented based on clinical\\ndiagnoses or as nondemented if either the clinical evaluationdetermined that the individual did not meet diagnostic crite-ria for dementia or if the individual screened negative. The re-sulting data set included 680 individuals with a diagnosis ofdementia and 12 546 individuals who were nondemented.Among those with dementia were 428 with probable or pos-sible AD; 168 with vascular dementia or mixed AD and vascu-lar dementia; 31 with dementia secondary to another medicalcondition; and 53 other or type not specified. The total num-ber of pairs where one or both had AD was 392. For analysesof AD, individuals with a different type of dementia were treatedas missing. Average age at onset of dementia is listed in Table 1.\\nPROCEDURES\\nThe screening phase was conducted by telephone and wasdesigned to identify anyone with cognitive dysfunctionusing a screening tool with high sensitivity so that falsenegatives would be minimized. For the twins themselves,telephone cognitive screening used the TELE question-naire.\\n20Informants were given the Blessed Dementia Rating\\nScale.21The TELE has been demonstrated to have a sensitiv-\\nity of 0.95 in an unselected community sample, with speci-ficity set low (0.52) to minimize false negatives,\\n22and to per-\\nform well relative to other telephone screening protocols.23\\nThe clinical phase entailed complete in-person diagnostic\\nevaluations for dementia for individuals who screened posi-tive, their co-twins, and a sample of twins where both hadscreened negative. Clinical diagnoses used information col-lected by an assessment team comprising a physician and a nurse.Assessments included neuropsychological testing, a semistruc-tured interview with a knowledgeable informant, and a physi-cal examination with blood panel. A diagnostic review boardtook the assessment information and independently formu-lated a clinical dementia diagnosis and differential diagnosisof type of dementia, following Diagnostic and Statistical Manual\\nof Mental Disorders, Fourth Edition (DSM-IV ) criteria for de-\\nmentia,\\n24NINCDS/ADRDA criteria (National Institute of Neu-\\nrological and Communicative Disorders and Stroke–Alzheimer’s Disease and Related Disorders Association) for AD,\\n25\\nNINDS-AIREN criteria (Neuroepidemiology Branch of the Na-tional Institute of Neurological Disorders and Stroke–Association Internationale pour la Recherche et l’Enseignementen Neurosciences) for vascular dementia,\\n26Lund and Manches-\\nter criteria for frontal temporal dementia,27and consensus cri-\\nteria for dementia with Lewy bodies.28Individuals were first\\nclassified as demented, questionable (meeting some but not allDSM-IV criteria), or nondemented and then given a differen-\\n(REPRINTED) ARCH GEN PSYCHIATRY/ VOL 63, FEB 2006 WWW.ARCHGENPSYCHIATRY.COM\\n169\\n©2006 American Medical Association. All rights reserved.\\nDownloaded From: https://jamanetwork.com/ on 06/21/2023tial diagnosis for type of dementia. For purposes of analysis,\\nthose who were questionable (that is, possibly prodromal) wereincluded with those who were nondemented. Weighted /H9260for\\nagreement between the 2 members of the diagnostic review boardonDSM-IV diagnoses was 0.86 for 204 individuals.\\nAge at onset was established by the assessment team when it\\nmet to reach initial conclusions about the case. Information usedto determine age at onset included a detailed informant interviewto ascertain when different symptoms first occurred and how theyinterfered with the twin’s life, as well as reading medical recordsfor mention of problems with memory or thinking or a formal de-mentia diagnosis. Age at onset was defined as the age at which defi-nite and enduring symptoms of dementia first appeared.\\nSTATISTICAL ANALYSIS\\nDescriptive data analyses included those for prevalence rate forcases, probandwise concordance, and tetrachoric correlationswithin each of the 5 groups. Probandwise concordance is the\\nratio of the number of affected twin partners of independentlyascertained cases to the total number of cases.\\n29Tetrachoric cor-\\nrelations represent the correlation of liability for the disorderbetween twins in a pair. For AD, individuals with other de-mentias were excluded from the analyses. Results for total de-mentia include all dementias. Pairs were included if either mem-ber of the pair was in the HARMONY sample.\\nBiometrical twin analyses were conducted on raw ordinal data\\nusing the Mx data program (Department of Psychiatry, VirginiaCommonwealth University, Richmond, Va)\\n30in which twin re-\\nsemblance was compared for 5 groups of twins: male and femaleMZ and DZ twins as well as unlike-sex pairs. In ordinal mod-els, each individual is coded as having the disease or not having\\nthe disease, and the threshold is the zscore that corresponds to\\nthe rate of the disease. Thus, the model assumes an underlyingnormally distributed liability. Using the raw data option in Mxpermits including incomplete pairs who contributed informa-tion for the estimation of thresholds but not for twin resemblance.Model fitting used the method of maximum likelihood.\\nThe sex-limitation twin model is shown in\\nFigure 1 . Vari-\\nance is partitioned into 3 components: A (additive genetic), C(shared environmental effects common to both members of atwin pair), and E (nonshared or unique environmental ef-fects). The observed data are fit based on assuming that ge-netic similarity is half as great for DZ as for MZ twin pairs, ie,0.5 vs 1.0, while environmental influences shared by twins ina pair contribute equally to making MZ and DZ pairs similarand are correlated 1.0. Unlike-sex twins contribute to resolv-ing whether sex limitation is present, ie, whether different genesmay be influential for men and women.\\n31As indicated in\\nFigure 1, if different genetic influences are important for thedisease in men and in women, then unlike-sex twins will beless genetically similar for the trait than DZ twins, and the ge-netic correlation (r\\ng) will be less than 0.5. Alternatively, if dif-\\nferent environments are more influential in one sex than theother, then one can test whether the correlation between en-vironments shared by twins (r\\nc) is less than 1.0 in unlike-sex\\npairs. If neither were supported, one can test whether the mag-nitudes of genetic and environmental sources of variance dif-fered significantly by sex comparing the fit of the 5-group un-constrained model with a model where genetic andTable 1. Prevalence of Total Dementia and Alzheimer Disease, Probandwise Concordance Rates, and Tetrachoric Correlations\\n(With 95% Confidence Intervals) by Zygosity and Sex\\nMZ Men MZ Women DZ Men DZ Women Unlike-Sex Twins\\nComplete pairs, No. * 428 655 679 1009 1454\\nMen Women\\nIndividuals, No. 1355 1884 2333 3247 2121 2286Prevalence\\nTotal dementia, No., %† 68 (5.02) 143 (7.59) 94 (4.03) 245 (7.55) 60 (2.83) 70 (3.06)AD, %‡ 2.65 5.74 2.44 5.03 1.25 1.99\\nAge at onset of dementia,\\nmean ± SD, y 76.6 ± 7.1 78.2 ± 7.6 75.1 ± 9.2 79.0 ± 7.8 76.2 ± 7.2 74.6 ± 7.5\\nProbandwise concordance, %\\nTotal dementia 44 58 25 45 26AD 45 61 19 41 21\\nTetrachoric correlation (95% CI)\\nTotal dementia 0.73 (0.52-0.87) 0.83 (0.72-0.90) 0.53 (0.29-0.73) 0.70 (0.59-0.79) 0.63 (0.46-0.76)AD 0.81 (0.72-0.94) 0.89 (0.78-0.95) 0.48 (0.14-0.73) 0.76 (0.66-0.86) 0.58 (0.33-0.77)\\nAbbreviations: AD, Alzheimer disease; CI, confidence interval; DZ, dizygotic; MZ, monozygotic.\\n*Complete pairs are those in which both members of the pair participated.\\n†Prevalence of dementia calculated as number of cases divided by number of individuals.‡Prevalence of Alzheimer disease calculated after removing other cases of dementia from the denominator.\\nPt1 emcmam1.00\\nMZ = 1\\nDZ = 0.51.00\\nMZ = 1\\nDZ = 0.5\\n1.00\\nrgECA\\nPm emcmamECA\\nafcfefACEPt2 am cmemACE\\nPt1 efcfafEC A\\nPt2 afcfefACE\\nPf \\nFigure 1. Model of sex limitation of genetic effects. A indicates genetic\\ninfluences; a, genetic loadings; C, shared environmental influences; c, sharedenvironmental loadings; DZ, dizygotic; E, nonshared environmentalinfluences; e, nonshared environmental loadings; f, female; m, male; MZ,monozygotic; P\\nt1; twin 1’s phenotype; P t2, twin 2’s phenotype; r g, genetic\\ncorrelation. The 1.00, 1, and 0.5 notations represent the assumptions of thetwin model that the correlation of additive genetic components is 1 formonozygotic twins and 0.5 for dizygotic twins and that the correlation ofshared factors is 1.00 for both twin types.\\n(REPRINTED) ARCH GEN PSYCHIATRY/ VOL 63, FEB 2006 WWW.ARCHGENPSYCHIATRY.COM\\n170\\n©2006 American Medical Association. All rights reserved.\\nDownloaded From: https://jamanetwork.com/ on 06/21/2023environmental influences were set to be the same for men and\\nwomen. In addition, a series of models were tested, succes-sively dropping either the A or the C parameter. Alternativenested models were compared by taking the difference in loglikelihood between the full and reduced model, which is dis-tributed as a /H9273\\n2with degrees of freedom equal to the difference\\nin the number of parameters estimated in each model.\\nFinally, with an age-related disease, twin similarity for age\\nis confounded with twin similarity for disease. This leads to in-flation of C. Therefore, we adjusted the estimated thresholds(ie, rate of the disease) according to age of the twin. The ad-justment is expressed as /H9252\\nage.14\\nComparison of ages at onset within concordant MZ and DZ\\ntwin pairs relied on a Wilcoxon 2-sample test. This statistic re-duces the effect of isolated extreme scores when data are notnormally distributed.\\nRESULTS\\nSample sizes, unadjusted prevalence rates, proband-\\nwise concordance rates, and tetrachoric correlationsare listed in Table 1 for both AD and total dementiafor all 5 groups. Prevalence tended to be higher forwomen than for men, and rates of disease were higheramong those who were older than those who wereyounger (\\nFigure 2 ). As shown by both concordance\\nrates and tetrachoric correlations, resemblance wasgreater for MZ than for DZ and for women than formen. Concordance for vascular dementia (not listed inthe table) was very low, with only 1 MZ pair, 3 DZpairs, and 3 unlike-sex pairs in which both twins hadvascular dementia or mixed vascular and AD.\\nModel-fitting results for AD are summarized in\\nTable 2 . Findings for total dementia were similar and\\nare therefore not shown. The top section of Table 2 pro-vides results of the 5-group model without including /H9252\\nage.\\nThese results are included because the method corre-sponds to how other twin studies have calculated heri-tability. Thresholds could be equated for twins in a pair,in MZ and DZ men, and for MZ and DZ women, but notfor men and women and not for like-sex and unlike-sexpairs. Therefore, thresholds were allowed to differ for menand women in like-sex pairs and for unlike-sex pairs. Inthe results presented in Table 2, the amount of varianceassigned to C is substantial, especially for women.\\nThe bottom sections of Table 2 list results of the\\n5-group model with age-adjusted thresholds. With /H9252\\nage\\nin the model and allowed to differ for men and women,\\nsex differences in thresholds were no longer significant,indicating that the differences in thresholds likely re-flected the greater longevity of women compared withmen and hence their greater opportunity to have be-come demented. Although allowed freely to vary, the ge-netic correlation (r\\ng) for unlike-sex pairs was estimated\\nto be 0.5, providing no evidence that different sets of genesare important for men and women. Similarly, the corre-lation between environments shared by twins (r\\nc) was not\\nsignificantly less than 1.0 in unlike-sex pairs, providingno evidence for sex differences in the nature of sharedenvironmental factors.\\nThe lower threshold for unlike-sex pairs may reflect\\nthe historical difference in how unlike-sex pairs were en-rolled in the twin registry, in which those born the ear-liest may have been lost to enrollment in the twin reg-\\nistry. Accordingly, we also examined a 4-group modelthat excluded the unlike-sex pairs and compared thoseestimates with the corresponding estimates from the5-group model. Estimates for A, C, and E were essen-tially the same as in the 5-group model.\\nIn the model fitting when full and reduced models were\\ncompared, it was possible to set the shared environmentparameter to 0 for men and women ( P=.34 and .09, re-\\nspectively). For men, it was possible to drop either theadditive genetic effect ( P=.12) or the shared environ-\\nmental effect ( P=.34), but not both ( P/H11021.001). How-\\never, for women, dropping the additive genetic effect re-sulted in a significant loss of fit ( P=.04).\\nAlthough the parameter estimates for men and women\\nappeared to be quite different, the difference /H9273\\n2was not\\nsignificant for comparing the full model with differentparameters for men and women with the model with menand women equated ( P=.36). After men and women were\\nequated, setting the shared environmental parameter to0 resulted in no significant loss of fit ( P=.35). This best-\\nfitting reduced model, where estimates are equated formen and women and the C parameter is dropped, is pre-sented in the last row of Table 2.\\nWe evaluated the effect of our methodological choices\\nby comparing concordance rates and models that wouldhave resulted from alternative decisions. If pairs were in-cluded in the AD analyses when one twin had AD whilethe twin partner had another dementia, concordance inall groups increased only slightly. If pairs were includedonly when both members of the pair were alive for thescreening phase, DZ concordance decreased slightly andestimates of the C parameter showed a small increase,slightly more so for men than for women.\\nAverage age at onset for AD among all MZ indi-\\nviduals was 78.1 years; likewise, average age at onsetamong all DZ individuals was 78.1 years. Among 25MZ pairs where both had AD, the average±SD differ-25\\n1520\\n10\\n5\\n0\\n<75 75-79 80-84 ≥85\\nAge, yRate of Alzheimer Disease, %Men\\nWomen\\nFigure 2. Prevalence of Alzheimer disease by age group and sex.\\n(REPRINTED) ARCH GEN PSYCHIATRY/ VOL 63, FEB 2006 WWW.ARCHGENPSYCHIATRY.COM\\n171\\n©2006 American Medical Association. All rights reserved.\\nDownloaded From: https://jamanetwork.com/ on 06/21/2023ence in age at onset was 3.66±3.63 years. Among 20\\nDZ pairs where both had AD, the average±SD differ-ence in age at onset was 8.12±7.04 years. A Wilcoxon2-sample test normal approximation resulted in a z\\nscore of 2.73, which corresponds to a 1-sided prob-ability of .003. There was no relationship between theintrapair difference in age at onset and the age atwhich the first twin became affected.\\nCOMMENT\\nIn the largest population-based twin study of dementia todate, with like- and unlike-sex pairs and using advance-ments in twin methodology, we have confirmed that heri-tability of AD is high and does not differ by sex. The samegenetic effects are operating in men and women. Genes alsoseem to have a role in disease timing because age at onsetof AD is significantly more similar for concordant MZ pairscompared with concordant DZ pairs. These results are basedon a large sample, using clinical diagnoses.\\nPrior studies—characterized by smaller samples, se-\\nlective samples, or diagnoses based on registry informa-tion—have found diverse heritability estimates, some simi-lar to as well as some lower than those in the present study.The earliest twin study used the New York State Psychi-atric Institute Study of Aging Twins. Diagnostic criteriafor AD now in use were not then available; rather theyrelied on diagnoses of “senile dementia” to examine con-cordance rates in 54 pairs.\\n8Their concordance rate for\\nMZ was 43%, which is similar to our findings for totaldementia, but their concordance rate for DZ was 8%,which is considerably lower than what we observed.\\nSince the New York State Psychiatric Institute study, there\\nhave been both US and Nordic twin studies of AD. The NAS-NRC (National Academy of Sciences–National ResearchCouncil) Twin Registry in the United States\\n32includes white\\nmen born in 1917 through 1927 where both members of thepair served in the Armed Forces. When these twins were aged63 to 73 years, they were screened for AD.\\n9Possibly because\\nthe sample was relatively young, concordance rates basedon 38 cases tended to be low relative to the present studyand to other twin studies: 21% for MZ and 11% for DZ. TheNorwegian Twin Registry (with both like- and unlike-sexpairs) was matched with lists of residents of long-term carefacilities, and all potential cases were clinically evaluated;72 twins with dementia (38 with AD) were identified.\\n11A\\npotential limitation of this approach is that those not in long-term care could have been missed. Concordance rates werehigher in this study than in other studies: 83% for MZ and46% for DZ. Heritability was estimated to be 58% while es-timated shared environmental influences were 39%.\\nThe Finnish Twin Registry, consisting of like-sex pairs\\nborn before 1958 where both co-twins were alive in 1975,\\n33\\nwas linked with a registry containing hospital discharge di-\\nagnoses to identify twins with an International Classification\\nof Diseases, Ninth Revision (ICD-9) diagnosis of dementia.34\\nDiagnoses for 178 cases of dementia (94 with AD) were con-\\nfirmed by medical record review.10This analysis differs from\\nthe other twin studies in using a cohort design that includedall cases, regardless of whether they were still living at thetime of the study and whether or not they had been person-ally examined by the investigators. Because it relied on di-agnoses written in medical records by physicians, cases ofdementia may have been missed.\\n35The concordance rates\\nfor AD reported for the Finnish Twin Registry are 31% forMZ and 9% for DZ. The low concordance rates comparedwith most other studies could reflect differences in a cohortcomparedwithacross-sectionaldesign,underascertainment,biasedascertainment,oracombinationofthesefactors.Preva-lence of AD was higher for MZ than for DZ twins, which hasnot been confirmed by other reports.\\nA subsample of the Swedish Twin Registry based on\\nthe SATSA (Swedish Adoption/Twin Study of Aging) studyhas previously been ascertained for dementia.\\n12Screen-\\ning located 78 individuals with dementia (38 with AD).Heritability was estimated to be 74%, which is similar toTable 2. Parameter Estimates (With 95% Confidence Intervals) From Model Fitting Results for Alzheimer Disease:\\nFull Model Without Adjusting for Age and Full and Reduced Models Adjusting for Age *\\nGroup A * C* E*rgfor\\nUnlike-Sex Pairs Threshold†\\nFull Model Without Adjusting for Age\\nMen 0.59 (0.00-0.89) 0.21 (0.00-0.72) 0.20 (0.07-0.46) 1.96Women 0.37 (0.11-0.63) 0.53 (0.29-0.73) 0.10 (0.05-0.20) 1.47Unlike sex 0.50 2.14\\nFull Model Adjusting for Age\\nA* C* E*r\\ngfor\\nUnlike-Sex Pairs /H9252age\\nMen 0.58 (0.00-0.86) 0.07 (0.00-0.59) 0.36 (0.14-0.69)\\n0.50−0.08\\nWomen 0.45 (0.02-0.88) 0.36 (0.00-0.71) 0.19 (0.09-0.35) −0.09\\nReduced Models Adjusting for Age\\nMen and women equated 0.58 (0.19-0.87) 0.19 (0.00-0.49) 0.23 (0.13-0.37) 0.50 −0.09Men and women equated, C parameter dropped 0.79 (0.67-0.88) NA 0.21 (0.12-0.33) 0.50 −0.09\\nAbbreviations: A, additive genetic influences; /H9252\\nage, regression coefficient for age; C, shared environmental influences; E, nonshared environmental influences;\\nNA, not applicable; r ggenetic correlation.\\n*All values are parameter estimate (confidence interval).\\n†Threshold is the zscore corresponding to prevalence.\\n(REPRINTED) ARCH GEN PSYCHIATRY/ VOL 63, FEB 2006 WWW.ARCHGENPSYCHIATRY.COM\\n172\\n©2006 American Medical Association. All rights reserved.\\nDownloaded From: https://jamanetwork.com/ on 06/21/2023results from the best-fitting model in the present study.\\nAs was also reported by the Norwegian study, substan-tial influence from shared environmental factors was sug-gested (24%). Findings for the shared environmental fac-tors illustrate how, if a disorder is age-related, thatparameter may be overestimated. In the present study,controlling for age reduced the magnitude of the sharedenvironment parameter.\\nBoth the SATSA subsample and a second subsample\\nfrom the OCTO (Octogenarian)-Twin study were ableto be followed longitudinally, and those findings have beenpreviously reported.\\n36Individuals who were nonde-\\nmented at baseline were ascertained again for dementiaat follow-up. Results based on 77 incident cases of AD,with no correction for age, found somewhat lower heri-tability compared with estimates based on prevalent dis-ease (48%) and no influence from shared environment.The reason that results for the analyses of incident casesshowed lower heritability than results for analyses ofprevalent cases reflects essential differences between the2 designs; namely, for the incident design, the cases in-clude only those who developed dementia over a 5-yearperiod. If the incident sample were followed longer, morecases of dementia and more concordant pairs would belikely. Finally, in contrast to the present study, none ofthe previous reports based on the Swedish Twin Regis-try represent comprehensive ascertainment of the wholeregistry nor do they include unlike-sex pairs.\\nPrevious twin studies of AD have not been able to\\nevaluate sex differences. In the present analyses, we foundthat more women than men in the population had AD;however, women and men did not differ in prevalenceonce age was taken into account. Concordance was higherin women, reflecting their greater longevity. For thesereasons, the shared environment parameter was largerfor women than for men, especially in models that didnot take age into account. There was no significant mod-eration of genetic effects by sex. With age taken into ac-count, models for men and women could be equated. Forthis latter reason, the apparent difference in shared en-vironmental effects for women and men after control-ling for age should not be overinterpreted. Nonetheless,it is possible that female siblings might be more similarin their environments than male siblings. Previous analy-ses with the SATSA sample from the Swedish Twin Reg-istry also found influences for shared environment forMini-Mental State Examination scores for women but notfor men.\\n37\\nThe most important differences between past twin stud-\\nies and the present report are (1) the size of the study,in which the number of cases is from 4-fold to more than10-fold greater than those reported earlier; (2) represen-tativeness of the sample; (3) inclusion of unlike-sex pairsto test for evidence of sex limitation; and (4) incorpora-tion of an age correction to the disease threshold in thebiometrical twin models that statistically controls for spu-\\nrious twin resemblance because of their shared age.\\nThe present study also has a number of limitations,\\nincluding the following:\\nvThis is a prevalence study, and it is not possible to\\ndistinguish whether discordant twin pairs will ultimatelydiffer in presence of disease or whether they are only dif-\\nferent in age at onset. In evaluating genetic variability forhaving AD, influences related to age at onset are in-cluded, and it is not possible to separate susceptibility toAD from age at onset for AD. Ideally, all of these twins couldbe followed up longitudinally. Nonetheless, the range ofages included in the present study ensures that the samplewas not limited to individuals too young to be at risk fordeveloping dementia. Still, more definitive results will onlybecome available as repeated examinations are under-taken of this and other twin registries.\\nvNot all twins agreed to participate, with refusal both\\nat screening and clinical phases. We have previously notedthat prevalence of dementia in the present study was com-parable with several major epidemiological studies of de-mentia prevalence.\\n38,39To test how nonparticipation might\\nbe affecting the results, we used information available inthe twin registry from linking to the national InpatientDischarge Registry and Cause of Death Registry, whichcontain diagnoses for hospital stays and causes of death,respectively, recorded using the ICDrevision current at\\nthe time of the event. Thus, we determined whether non-participants had any dementia diagnosis recorded. Whenwe added this information to our data, the analysesshowed that heritability of dementia was within 1% formen and 2% for women, compared with the results basedonly on cases identified by our protocol.\\nvIn twin studies, estimates of the influence of genes\\nand environment are relative. When variation due to en-vironmental factors is low, estimates of the role of ge-netic effects will be higher. Moreover, both sets of influ-ences are “anonymous”; that is, we cannot use the resultsto infer what genes may be involved or what environ-mental factors might be important.\\nThe results of the present study also provide impor-\\ntant evidence for the extent to which environment in-fluences disease occurrence. Concordance is not per-fect, there is important influence due to nonsharedenvironment, and age at onset in concordant pairs var-ies, all suggesting that there are nongenetic lifestyle fac-tors that can affect the risk and timing of AD.\\nSubmitted for Publication: December 8, 2004; final re-\\nvision received April 29, 2005; accepted August 18, 2005.Author Affiliations: Department of Psychology, Univer-\\nsity of Southern California, Los Angeles (Drs Gatz, Fiske,and Pedersen); Department of Medical Epidemiology andBiostatistics (Drs Gatz and Pedersen) and Aging Re-search Center (Dr Fratiglioni), Karolinska Institutet,Stockholm, Sweden; Department of Psychology, Univer-sity of California at Riverside (Dr Reynolds); Depart-ment of Psychology, Go ¨teborg University, Go ¨teborg, Swe-\\nden (Dr Johansson); Department of Epidemiology andBiostatistics, University of South Florida, Tampa (Dr Mor-timer); Institute of Gerontology, School of Health Sci-ences, Jo ¨nko¨ping University, Jo ¨nko¨ping, Sweden\\n(Dr Berg); and Department of Psychology, West Vir-ginia University, Morgantown (Dr Fiske).Correspondence: Margaret Gatz, PhD, Department of Psy-\\nchology, University of Southern California, 3620 McClintockAve, Los Angeles, CA 90089-1061 (gatz@usc.edu).\\n(REPRINTED) ARCH GEN PSYCHIATRY/ VOL 63, FEB 2006 WWW.ARCHGENPSYCHIATRY.COM\\n173\\n©2006 American Medical Association. All rights reserved.\\nDownloaded From: https://jamanetwork.com/ on 06/21/2023Funding/Support: This work was supported by grant R01-\\nAG08724 from the National Institute on Aging, Bethesda,Md. Dr Gatz held a Zenith Award (ZEN-02-3895) fromthe Alzheimer’s Association, Chicago, Ill.Acknowledgment: The name HARMONY comes from the\\nSwedish words for “health” ( ha¨lsa), “genes” ( arv), “en-\\nvironment” ( miljo¨), “and” ( och), and “new” ( ny). We\\nthank Charles O. Gardner for making available his Mxscript for incorporating age thresholds into an ordinalmodel. All protocols are available online at http://www.usc.edu/dept/LAS/psychology/SCRAP. Age-at-onset ques-tions are shown in the protocol named Debut.\\nREFERENCES\\n1. Hendrie HC. Epidemiology of dementia and Alzheimer’s disease. Am J Geriatr\\nPsychiatry . 1998;6:S3-S18.\\n2. Brookmeyer R, Gray S, Kawas C. Projections of Alzheimer’s disease in the United\\nStates and the public health impact of delaying disease onset. Am J Public Health .\\n1998;88:1337-1342.\\n3. Bird T. Genetic factors in Alzheimer’s disease. N Engl J Med . 2005;352:862-864.\\n4. Kumar A, Schapiro MB, Grady CL, Matocha MF, Haxby JV, Moore AM, Luxen-\\nberg JS, St George-Hyslop PH, Robinette CD, Ball MJ, Rapoport SI. Anatomic,metabolic, neuropsychological, and molecular genetic studies of three pairs ofidentical twins discordant for dementia of the Alzheimer’s type. Arch Neurol . 1991;\\n48:160-168.\\n5. Small GW, Leuchter AF, Mandelkern MA, La Rue A, Okonek A, Lufkin RB, Jarvik\\nLF, Matsuyama SS, Bondareff W. Clinical, neuroimaging, and environmental riskdifferences in monozygotic female twins appearing discordant for dementia ofthe Alzheimer type. Arch Neurol . 1993;50:209-219.\\n6. Ja¨rvenpa ¨a¨T ,R a ¨iha¨ I, Kaprio J, Koskenvuo M, Laine M, Kurki T, Viljanen T, Rinne\\nJO. A 90-year-old monozygotic female twin pair discordant for Alzheimer’s disease.Neurobiol Aging . 2003;24:941-945.\\n7. Squitti R, Cassetta E, Dal Forno G, Lupoi D, Lippolis G, Pauri F, Vernieri F, Cappa\\nA, Rossini PM. Copper perturbation in 2 monozygotic twins discordant for de-gree of cognitive impairment. Arch Neurol . 2004;61:738-743.\\n8. Kallman FJ. Genetic aspects of mental disorders in later life. In: Kaplan OJ, ed.\\nMental Disorders in Later Life , Second edition. Stanford, Calif: Stanford Univer-\\nsity Press; 1956:26-46.\\n9. Breitner JCS, Welsh KA, Gau BA, McDonald WM, Steffens CD, Saunders AM,\\nMagruder KM, Helms MJ, Plassman BL, Folstein MF, Brandt J, Robinette CD,Page WF. Alzheimer’s disease in the National Academy of Sciences–National Re-search Council registry of aging twin veterans. III. Detection of cases, longitu-dinal results, and observations on twin concordance. Arch Neurol . 1995;52:\\n763-771.\\n10. Ra ¨iha¨ I, Kaprio J, Koskenvuo M, Rajala T, Sourander L. Alzheimer’s disease in\\nFinnish twins. Lancet . 1996;347:573-578.\\n11. Bergem AL, Engedal K, Kringlen E. The role of heredity in late-onset Alzheimer\\ndisease and vascular dementia: a twin study. Arch Gen Psychiatry . 1997;54:\\n264-270.\\n12. Gatz M, Pedersen NL, Berg S, Johansson B, Johansson K, Mortimer JA, Posner\\nSF, Viitanen M, Winblad B, Ahlbom A. Heritability for Alzheimer’s disease: thestudy of dementia in Swedish twins. J Gerontol A Biol Sci Med Sci . 1997;52:\\nM117-M125.\\n13. Plassman BL, Steffens DC, Burke JR, Welsh-Bohmer KA, Helms MJ. Alzhei-\\nmer’s disease in the NAS-NRC Twin Registry of WWII Veterans [abstract]. Neu-\\nrobiol Aging . 2004;25(suppl 2):514.\\n14. Reynolds CA, Fiske A, Fratiglioni L, Pedersen N, Gatz M. Heritability of an age-\\ndependent categorical phenotype: cognitive dysfunction. Twin Res Hum Genet .\\nIn press.\\n15. Steffens DC, Plassman BL, Helms MJ, Welsh-Bohmer KA, Saunders AM, Breit-\\nner JCS. A twin study of late-onset depression and apolipoprotein E epsilon 4 asrisk factors for Alzheimer’s disease. Biol Psychiatry . 1997;41:851-856.\\n16. McGue M, Bouchard TJ Jr. Adjustment of twin data for the effects of age and\\nsex. Behav Genet . 1984;14:325-343.\\n17. Farrer LA, Cupples LA, Haines JL, Hyman B, Kukull WA, Mayeux R, Myers RH,\\nPericak-Vance MA, Risch N, van Duijn CM. Effects of age, sex, and ethnicity onthe association between apolipoprotein E genotype and Alzheimer’s disease: a\\nmeta-analysis. APOE and Alzheimer Disease Meta Analysis Consortium. JAMA .\\n1997;278:1349-1356.\\n18. Lichtenstein P, de Faire U, Floderus B, Svartengren M, Svedberg P, Pedersen\\nNL. The Swedish Twin Registry: a unique resource for clinical, epidemiological,and genetic studies. J Intern Med . 2002;252:184-205.\\n19. Gatz M, Fratiglioni L, Johansson B, Berg S, Mortimer JA, Reynolds CA, Fiske A,\\nPedersen NL. Complete ascertainment of dementia in the Swedish Twin Regis-try: the HARMONY study. Neurobiol Aging . 2005;26:439-447.\\n20. Gatz M, Reynolds C, Nikolic J, Lowe B, Karel M, Pedersen NL. An empirical test\\nof telephone screening to identify potential dementia cases. Int Psychogeriatr .\\n1995;7:429-438.\\n21. Erkinjuntti T, Hokkanen L, Sulkava R, Palo J. The Blessed Dementia Scale as a\\nscreening test for dementia. Int J Geriatr Psychiatry . 1988;3:267-273.\\n22. Gatz M, Reynolds CA, John R, Johansson B, Mortimer JA, Pedersen NL. Tele-\\nphone screening to identify potential dementia cases in a population-based sampleof older adults. Int Psychogeriatr . 2002;14:273-289.\\n23. Ja ¨rvenpa ¨a¨ T, Rinne JO, Ra ¨iha¨ I, Koskenvuo M, Lopponen M, Hinkka S, Kaprio J.\\nCharacteristics of two telephone screens for cognitive impairment. Dement Geri-\\natr Cogn Disord . 2002;13:149-155.\\n24. American Psychiatric Association. Diagnostic and Statistical Manual of Mental\\nDisorders, Fourth Edition, Text Revision . Washington, DC: American Psychiat-\\nric Association; 2000.\\n25. McKhann G, Drachman D, Folstein M, Katzman R, Price D, Stadlan EM. Clinical\\ndiagnosis of Alzheimer’s disease: report of the NINCDS-ADRDA Work Group un-\\nder the auspices of Department of Health and Human Services Task Force onAlzheimer’s Disease. Neurology . 1984;34:939-944.\\n26. Roman GC, Tatemichi TK, Erkinjuntti T, Cummings JL, Masdeu JC, Garcia JH,\\nAmaducci L, Orgogozo JM, Brun A, Hofman A. Vascular dementia: diagnosticcriteria for research studies. Report of the NINDS-AIREN International Workshop.Neurology . 1993;43:250-260.\\n27. Lund and Manchester Groups. Clinical and neuropathological criteria for fron-\\ntotemporal dementia. J Neurol Neurosurg Psychiatry . 1994;57:416-418.\\n28. McKeith IG, Galasko D, Kosaka K, Perry EK, Dickson DW, Hansen LA, Salmon\\nDP, Lowe J, Mirra SS, Byrne EJ, Lennox G, Quinn NP, Edwardson JA, Ince PG,Bergeron C, Burns A, Miller BL, Lovestone S, Collerton D, Jansen EN, Ballard C,de Vos RA, Wilcock GK, Jellinger KA, Perry RH. Consensus guidelines forthe clinical and pathologic diagnosis of dementia with Lewy bodies (DLB):report of the consortium on DLB international workshop. Neurology . 1996;\\n47:1113-1124.\\n29. McGue M. When assessing twin concordance, use the probandwise not the pair-\\nwise rate. Schizophr Bull . 1992;18:171-176.\\n30. Neale MC, Boker SM, Xie G, Maes HH. Mx: Statistical Modeling , Fifth Edition.\\nRichmond, Va: Department of Psychiatry, Virginia Commonwealth University;1999.\\n31. Reynolds CA, Hewitt JK. Issues in the behavior genetic investigation of gender\\ndifferences. In: Turner JR, Cardon LR, Hewitt JK, eds. Behavior Genetic Ap-\\nproaches in Behavioral Medicine . New York, NY: Plenum Press, 1995.\\n32. Page WF. The NAS-NRC Twin Registry of WWII military veteran twins. Twin Res .\\n2002;5:493-496.\\n33. Kaprio J, Koskenvuo M. Genetic and environmental factors in complex dis-\\neases: the older Finnish twin cohort. Twin Res . 2002;5:358-365.\\n34. World Health Organization. International Classification of Diseases, Ninth Revi-\\nsion (ICD-9) . Geneva, Switzerland: World Health Organization; 1977.\\n35. Callahan CM, Hendrie HC, Tierney WM. Documentation and evaluation of cog-\\nnitive impairment in elderly primary care patients. Ann Intern Med . 1995;122:\\n422-429.\\n36. Pedersen NL, Gatz M, Berg S, Johansson B. How heritable is Alzheimer disease\\nlate in life? Findings from Swedish twins. Ann Neurol . 2004;55:180-185.\\n37. Pedersen NL, Reynolds CA, Gatz M. Sources of covariation among Mini-Mental\\nState Examination scores, education, and cognitive abilities. J Gerontol B Psy-\\nchol Sci Soc Sci . 1996;51:P55-P63.\\n38. Fratiglioni L, Grut M, Forsell Y, Viitanen M, Grafstro ¨m M, Holmen K, Ericsson K,\\nBackman L, Ahlbom A, Winblad B. Prevalence of Alzheimer’s disease and otherdementias in an elderly urban population: relationship with age, sex, and education.Neurology . 1991;41:1886-1892.\\n39. Bachman DL, Wolf PA, Linn R, Knoefel JE, Cobb J, Belanger A, D’Agostino RB,\\nWhite LR. Prevalence of dementia and probable senile dementia of the Alzhei-mer type in the Framingham Study. Neurology . 1992;42:115-119.\\n(REPRINTED) ARCH GEN PSYCHIATRY/ VOL 63, FEB 2006 WWW.ARCHGENPSYCHIATRY.COM\\n174\\n©2006 American Medical Association. All rights reserved.\\nDownloaded From: https://jamanetwork.com/ on 06/21/2023'"
            ],
            "application/vnd.google.colaboratory.intrinsic+json": {
              "type": "string"
            }
          },
          "metadata": {},
          "execution_count": 12
        }
      ]
    },
    {
      "cell_type": "markdown",
      "source": [
        "##Paper Summarization using CoHere API:\n",
        "- Utilize the CoHere API to generate summaries of research papers.\n",
        "- Make API calls to retrieve key insights and main ideas from each paper.\n",
        "- Process the obtained summaries to ensure readability and coherence."
      ],
      "metadata": {
        "id": "yTOgRLHTEtqI"
      }
    },
    {
      "cell_type": "code",
      "source": [
        "!pip install cohere\n",
        "#!pip install requests"
      ],
      "metadata": {
        "colab": {
          "base_uri": "https://localhost:8080/"
        },
        "id": "bjfRSDqDIDqR",
        "outputId": "4414ede2-57c0-40ff-e6f4-62f7850ccc9a"
      },
      "execution_count": 3,
      "outputs": [
        {
          "output_type": "stream",
          "name": "stdout",
          "text": [
            "Collecting cohere\n",
            "  Downloading cohere-4.11.2-py3-none-any.whl (39 kB)\n",
            "Requirement already satisfied: aiohttp<4.0,>=3.0 in /usr/local/lib/python3.10/dist-packages (from cohere) (3.8.4)\n",
            "Collecting backoff<3.0,>=2.0 (from cohere)\n",
            "  Downloading backoff-2.2.1-py3-none-any.whl (15 kB)\n",
            "Collecting importlib_metadata<7.0,>=6.0 (from cohere)\n",
            "  Downloading importlib_metadata-6.7.0-py3-none-any.whl (22 kB)\n",
            "Requirement already satisfied: requests<3.0,>=2.0 in /usr/local/lib/python3.10/dist-packages (from cohere) (2.27.1)\n",
            "Requirement already satisfied: attrs>=17.3.0 in /usr/local/lib/python3.10/dist-packages (from aiohttp<4.0,>=3.0->cohere) (23.1.0)\n",
            "Requirement already satisfied: charset-normalizer<4.0,>=2.0 in /usr/local/lib/python3.10/dist-packages (from aiohttp<4.0,>=3.0->cohere) (2.0.12)\n",
            "Requirement already satisfied: multidict<7.0,>=4.5 in /usr/local/lib/python3.10/dist-packages (from aiohttp<4.0,>=3.0->cohere) (6.0.4)\n",
            "Requirement already satisfied: async-timeout<5.0,>=4.0.0a3 in /usr/local/lib/python3.10/dist-packages (from aiohttp<4.0,>=3.0->cohere) (4.0.2)\n",
            "Requirement already satisfied: yarl<2.0,>=1.0 in /usr/local/lib/python3.10/dist-packages (from aiohttp<4.0,>=3.0->cohere) (1.9.2)\n",
            "Requirement already satisfied: frozenlist>=1.1.1 in /usr/local/lib/python3.10/dist-packages (from aiohttp<4.0,>=3.0->cohere) (1.3.3)\n",
            "Requirement already satisfied: aiosignal>=1.1.2 in /usr/local/lib/python3.10/dist-packages (from aiohttp<4.0,>=3.0->cohere) (1.3.1)\n",
            "Requirement already satisfied: zipp>=0.5 in /usr/local/lib/python3.10/dist-packages (from importlib_metadata<7.0,>=6.0->cohere) (3.15.0)\n",
            "Requirement already satisfied: urllib3<1.27,>=1.21.1 in /usr/local/lib/python3.10/dist-packages (from requests<3.0,>=2.0->cohere) (1.26.16)\n",
            "Requirement already satisfied: certifi>=2017.4.17 in /usr/local/lib/python3.10/dist-packages (from requests<3.0,>=2.0->cohere) (2023.5.7)\n",
            "Requirement already satisfied: idna<4,>=2.5 in /usr/local/lib/python3.10/dist-packages (from requests<3.0,>=2.0->cohere) (3.4)\n",
            "Installing collected packages: importlib_metadata, backoff, cohere\n",
            "Successfully installed backoff-2.2.1 cohere-4.11.2 importlib_metadata-6.7.0\n"
          ]
        }
      ]
    },
    {
      "cell_type": "code",
      "source": [
        "import requests\n",
        "api_endpoint = \"https://api.cohere.ai/paper/summarize\"\n",
        "x = requests.post(api_endpoint)"
      ],
      "metadata": {
        "id": "VCrNC44FLD8_"
      },
      "execution_count": 4,
      "outputs": []
    },
    {
      "cell_type": "markdown",
      "source": [
        "## CoHere - Data generation"
      ],
      "metadata": {
        "id": "j2iwSQ5RwWET"
      }
    },
    {
      "cell_type": "code",
      "source": [
        "prompt = \"What is the main achievmentes and challenges in this study: f{extracted_text} \""
      ],
      "metadata": {
        "id": "tz8lIdtKrnfu"
      },
      "execution_count": 23,
      "outputs": []
    },
    {
      "cell_type": "code",
      "source": [
        "import cohere\n",
        "co = cohere.Client('dCbAGB2ASZccs43UaN1DcMdZIIVfp1vwQO6ojxpn') # This is your trial API key\n",
        "response = co.generate(\n",
        "  model='command',\n",
        "  prompt=prompt,\n",
        "  max_tokens=300,\n",
        "  temperature=0.9,\n",
        "  k=0,\n",
        "  stop_sequences=[],\n",
        "  return_likelihoods='NONE')\n",
        "print('Prediction: {}'.format(response.generations[0].text))"
      ],
      "metadata": {
        "colab": {
          "base_uri": "https://localhost:8080/"
        },
        "id": "fl3OKKTZIJdH",
        "outputId": "06dc9807-9222-41b9-e2c6-511ef59c6391"
      },
      "execution_count": 25,
      "outputs": [
        {
          "output_type": "stream",
          "name": "stderr",
          "text": [
            "Your text contains a trailing whitespace, which has been trimmed to ensure high quality generations.\n"
          ]
        },
        {
          "output_type": "stream",
          "name": "stdout",
          "text": [
            "Prediction: \n",
            "The main achievements and challenges in this study are:\n",
            "\n",
            "Achievements:\n",
            "- The study successfully extracted and analyzed data from a large number of tweets.\n",
            "- The study identified a number of trends and patterns in the data that were not previously known.\n",
            "- The study developed a new method for extracting and analyzing data from tweets.\n",
            "\n",
            "Challenges:\n",
            "- The study had to deal with a large amount of data.\n",
            "- The study had to develop a new method for extracting and analyzing data from tweets.\n"
          ]
        }
      ]
    },
    {
      "cell_type": "markdown",
      "source": [
        "##CoHere - Data generation"
      ],
      "metadata": {
        "id": "B4YE5XEiwiyu"
      }
    },
    {
      "cell_type": "code",
      "source": [
        "text = extracted_text\n",
        "response = co.summarize(\n",
        "    model='summarize-xlarge',\n",
        "    length='long',\n",
        "    extractiveness='high',\n",
        "    temperature = 1,\n",
        "    format = 'bullets',\n",
        "    text = text\n",
        ")\n",
        "\n",
        "summary = response.summary"
      ],
      "metadata": {
        "id": "4l18i3gtNTYS"
      },
      "execution_count": 20,
      "outputs": []
    },
    {
      "cell_type": "code",
      "source": [
        "summary"
      ],
      "metadata": {
        "colab": {
          "base_uri": "https://localhost:8080/",
          "height": 109
        },
        "id": "Pt6SEmZaOSmK",
        "outputId": "d0f4a54a-4187-4399-bd57-5497c2de6d4b"
      },
      "execution_count": 21,
      "outputs": [
        {
          "output_type": "execute_result",
          "data": {
            "text/plain": [
              "'- The aim of this study was to estimate the contribution of genetics and environment to Alzheimer’s disease in a large sample of elderly twins.\\n- The Swedish Twin Registry was used to identify twins who had been diagnosed with Alzheimer’s disease and their co-twins.\\n- For the analysis of Alzheimer’s disease, 3 fi ve groups were used: male and female monozygotic (MZ) and dizygotic (DZ) twins, and unlike-sex pairs.\\n- Using advanced methods of twin methodology, we verified that heritability for Alzheimer’s disease is high and does not differ by sex.\\n- The same genetic effects are operating in men and women.\\n- Among all MZ individuals, average age at onset for Alzheimer’s disease was 8.12 years greater among those who were concordant for Alzheimer’s disease than among those who were discordant.\\n- This study represents the largest population-based twin study of dementia to date.'"
            ],
            "application/vnd.google.colaboratory.intrinsic+json": {
              "type": "string"
            }
          },
          "metadata": {},
          "execution_count": 21
        }
      ]
    },
    {
      "cell_type": "markdown",
      "source": [
        "- The aim of this study was to estimate the contribution of genetics and environment to Alzheimer’s disease in a large sample of elderly twins.\n",
        "- The Swedish Twin Registry was used to identify twins who had been diagnosed with Alzheimer’s disease and their co-twins.\n",
        "- For the analysis of Alzheimer’s disease, 3 fi ve groups were used: male and female monozygotic (MZ) and dizygotic (DZ) twins, and unlike-sex pairs.\n",
        "- Using advanced methods of twin methodology, we verified that heritability for Alzheimer’s disease is high and does not differ by sex.\n",
        "- The same genetic effects are operating in men and women.\n",
        "- Among all MZ individuals, average age at onset for Alzheimer’s disease was 8.12 years greater among those who were concordant for Alzheimer’s disease than among those who were discordant.\n",
        "- This study represents the largest population-based twin study of dementia to date."
      ],
      "metadata": {
        "id": "whJGcHefpT8m"
      }
    },
    {
      "cell_type": "markdown",
      "source": [
        "## Research Abstract.\n",
        "\n",
        "The following text contain the abstract of my research. I will use it as the guideline to find similar papers that will help the most in my reserach"
      ],
      "metadata": {
        "id": "e-iugdCZxE5h"
      }
    },
    {
      "cell_type": "code",
      "source": [
        "abstract = \"Alzheimer\\'s Disease (AD) is a complex neurodegenerative disorder that has gained significant attention in scientific research, particularly since the Human GenomeProject. In 2022, it is estimated that AD affects over 50 million people worldwide, and its economic burden exceeds a trillion US dollars per year. a deeper understanding of the complex genetic factors underlying AD. One promising approach is Genome-Wide Association Studies (GWAS), which allow the identification of geneticvariants associated with AD susceptibility. Of particular interest are Single Nucleotide Polymorphisms (SNPs), which represent variations in a single nucleotidebase in the DNA sequence.In this study, we investigated the association between SNPs and AD susceptibility by applying various quality control (QC) parameters during data pre-processing and rank the SNP associations through mixed linear models-based GWAS implemented in BLUPF90. Our findings indicate that the identified SNPs are located in regions already associated with Alzheimer\\'s Disease, including non-coding regions, We also investigated the impact of incorporating demographic data into our models. However, the results indicated that the inclusion of such data did not yield any benefits for the model.This study highlights the importance of GWAS in identifying potential genetic risk factors for AD and underscores the need for further research to gain a better understanding of the complex genetic mechanisms underlying this debilitating disease.\""
      ],
      "metadata": {
        "id": "lw0DvAaNxulU"
      },
      "execution_count": 30,
      "outputs": []
    },
    {
      "cell_type": "code",
      "source": [
        "\n",
        "len(abstract.split())"
      ],
      "metadata": {
        "colab": {
          "base_uri": "https://localhost:8080/"
        },
        "id": "TmX1Rymu2LyP",
        "outputId": "c484571a-b1fa-4363-9fc2-7763171437d4"
      },
      "execution_count": 38,
      "outputs": [
        {
          "output_type": "execute_result",
          "data": {
            "text/plain": [
              "210"
            ]
          },
          "metadata": {},
          "execution_count": 38
        }
      ]
    },
    {
      "cell_type": "markdown",
      "source": [
        "##Relevance Ranking based on Abstract:\n",
        "\n",
        "- Collect the abstract of your research as input.\n",
        "- Implement a method to compute the relevance score of each paper in relation to your research abstract.\n",
        "- Rank the papers based on their relevance score, sorting them in descending order.\n"
      ],
      "metadata": {
        "id": "QEcMoP6TFJOC"
      }
    },
    {
      "cell_type": "code",
      "source": [
        "docs = [\n",
        "    extracted_text,\n",
        "    \"Pamonha\",\n",
        "    \"Carson City is the capital city of the American state of Nevada. At the 2010 United States Census, Carson City had a population of 55,274.\",\n",
        "    \"The Commonwealth of the Northern Mariana Islands is a group of islands in the Pacific Ocean that are a political division controlled by the United States. Its capital is Saipan.\",\n",
        "   ]\n",
        "response = co.rerank(\n",
        "  model = 'rerank-english-v2.0',\n",
        "  query = f\"Witch article are more helpful to the following abstract: \"+abstract,\n",
        "  documents = docs,\n",
        "  top_n = 3,\n",
        ")\n"
      ],
      "metadata": {
        "id": "aZ47VjyjFNr8",
        "colab": {
          "base_uri": "https://localhost:8080/"
        },
        "outputId": "70747972-314c-497c-e82c-26a675edc20a"
      },
      "execution_count": 41,
      "outputs": [
        {
          "output_type": "stream",
          "name": "stderr",
          "text": [
            "Query has been truncated from the right to 256 tokens from 271 tokens.\n"
          ]
        }
      ]
    },
    {
      "cell_type": "code",
      "source": [
        "for idx, r in enumerate(response):\n",
        "  print(f\"Document Rank: {idx + 1}, Document Index: {r.index}\")\n",
        "  print(f\"Doc: {r.document['text'][0:50]}\")\n",
        "  print(f\"Score: {r.relevance_score:.2f} \\n\")"
      ],
      "metadata": {
        "colab": {
          "base_uri": "https://localhost:8080/"
        },
        "id": "8Ls8nxJ3z8q0",
        "outputId": "a292adbd-a85f-4957-99af-4bc744e8c7ce"
      },
      "execution_count": 42,
      "outputs": [
        {
          "output_type": "stream",
          "name": "stdout",
          "text": [
            "Document Rank: 1, Document Index: 0\n",
            "Doc: ORIGINAL ARTICLE\n",
            "Role of Genes and Environments\n",
            "fo\n",
            "Score: 0.25 \n",
            "\n",
            "Document Rank: 2, Document Index: 3\n",
            "Doc: The Commonwealth of the Northern Mariana Islands i\n",
            "Score: 0.20 \n",
            "\n",
            "Document Rank: 3, Document Index: 1\n",
            "Doc: Pamonha\n",
            "Score: 0.17 \n",
            "\n"
          ]
        }
      ]
    },
    {
      "cell_type": "markdown",
      "source": [
        "##Similarity Highlighting:\n",
        "\n",
        "- Develop an algorithm to identify similarities between papers based on their results and main ideas.\n",
        "- Implement a method to highlight the areas of overlap and similarity between papers.\n",
        "- Provide visual or textual indicators to highlight these similarities within the application.\n"
      ],
      "metadata": {
        "id": "eM3wfESkFOXL"
      }
    },
    {
      "cell_type": "markdown",
      "source": [],
      "metadata": {
        "id": "uWtFRViuFVsx"
      }
    },
    {
      "cell_type": "markdown",
      "source": [
        "##Keyword Extraction and Highlighting:\n",
        "\n",
        "- Leverage ML and NLP techniques to extract relevant keywords from the research papers.\n",
        "- Identify keywords associated with ML and NLP to support your project development.\n",
        "- Highlight these keywords within the summaries and relevant paper sections.\n"
      ],
      "metadata": {
        "id": "fGD_xG7AFWWX"
      }
    }
  ]
}